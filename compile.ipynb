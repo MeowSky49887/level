{
  "nbformat": 4,
  "nbformat_minor": 0,
  "metadata": {
    "colab": {
      "provenance": [],
      "authorship_tag": "ABX9TyMZwYdvyKL5+JrefrwerfXR",
      "include_colab_link": true
    },
    "kernelspec": {
      "name": "python3",
      "display_name": "Python 3"
    },
    "language_info": {
      "name": "python"
    }
  },
  "cells": [
    {
      "cell_type": "markdown",
      "metadata": {
        "id": "view-in-github",
        "colab_type": "text"
      },
      "source": [
        "<a href=\"https://colab.research.google.com/github/MeowSky49887/level/blob/main/compile.ipynb\" target=\"_parent\"><img src=\"https://colab.research.google.com/assets/colab-badge.svg\" alt=\"Open In Colab\"/></a>"
      ]
    },
    {
      "cell_type": "code",
      "execution_count": null,
      "metadata": {
        "id": "isxe6oSeCl9M"
      },
      "outputs": [],
      "source": [
        "!git clone https://github.com/MeowSky49887/level.git\n",
        "!pip install -r requirements.txt\n",
        "!pip uninstall pathlib -y"
      ]
    },
    {
      "cell_type": "code",
      "source": [
        "!pyinstaller --onefile --icon level.ico level.py"
      ],
      "metadata": {
        "id": "-zCngj68EIOg"
      },
      "execution_count": null,
      "outputs": []
    },
    {
      "cell_type": "code",
      "source": [
        "from google.colab import files\n",
        "files.download('/content/level/dist/level.exe')"
      ],
      "metadata": {
        "id": "c0RrUG8AEJgV"
      },
      "execution_count": null,
      "outputs": []
    }
  ]
}